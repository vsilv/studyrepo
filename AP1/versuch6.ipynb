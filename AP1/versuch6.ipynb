{
 "metadata": {
  "name": "versuch6"
 }, 
 "nbformat": 2, 
 "worksheets": [
  {
   "cells": [
    {
     "cell_type": "markdown", 
     "source": [
      "Abmessungen"
     ]
    }, 
    {
     "cell_type": "code", 
     "collapsed": false, 
     "input": [
      "st_breite=np.array([5.955,5.955,5.955,5.950,5.950])", 
      "st_hoehe =np.array([10.32,9.950,9.960,9.950,10.04])", 
      "print \"Stahl:\",st_breite.mean(),\"x\",st_hoehe.mean()", 
      "al_breite=np.array([5.940,5.940,5.940,5.940,5.935])", 
      "al_hoehe =np.array([9.910,9.900,9.885,9.890,9.955])", 
      "print \"Aluminium:\",al_breite.mean(),\"x\",al_hoehe.mean()", 
      "me_breite=np.array([5.950,5.945,5.945,5.950,5.950])", 
      "me_hoehe =np.array([9.940,9.935,9.940,9.935,9.935])", 
      "print \"Messing:\",me_breite.mean(),\"x\",me_hoehe.mean()"
     ], 
     "language": "python", 
     "outputs": [
      {
       "output_type": "stream", 
       "stream": "stdout", 
       "text": [
        "Stahl: 5.953 x 10.044", 
        "Aluminium: 5.939 x 9.908", 
        "Messing: 5.948 x 9.937"
       ]
      }
     ], 
     "prompt_number": 78
    }, 
    {
     "cell_type": "code", 
     "collapsed": true, 
     "input": [
      "import mylib"
     ], 
     "language": "python", 
     "outputs": [], 
     "prompt_number": 79
    }, 
    {
     "cell_type": "markdown", 
     "source": [
      "Stahl, Hochkant"
     ]
    }, 
    {
     "cell_type": "code", 
     "collapsed": true, 
     "input": [
      "g1=np.concatenate([np.arange(200,(8+1)*200,200),np.arange((8)*200,0,-200)])", 
      "s1=np.array([0.19,0.39,0.59,0.78,0.98,1.17,1.37,1.77,1.58,1.38,1.19,0.99,0.79,0.60,0.41,0.21])"
     ], 
     "language": "python", 
     "outputs": [], 
     "prompt_number": 80
    }, 
    {
     "cell_type": "markdown", 
     "source": [
      "Messing Hochkant"
     ]
    }, 
    {
     "cell_type": "code", 
     "collapsed": true, 
     "input": [
      "g2=np.concatenate([np.arange(100,(8+1)*100,100),np.arange((7)*100,-100,-100)])", 
      "s2=np.array([0.2,0.42,0.65,0.84,1.05,1.29,1.51,1.73,1.51,1.29,1.06,0.87,0.65,0.43,0.21,0.00])"
     ], 
     "language": "python", 
     "outputs": [], 
     "prompt_number": 81
    }, 
    {
     "cell_type": "markdown", 
     "source": [
      "Aluminium, Hochkant"
     ]
    }, 
    {
     "cell_type": "code", 
     "collapsed": true, 
     "input": [
      "g3=np.concatenate([np.arange(50,(8+1)*50,50),np.arange((7)*50,-50,-50)])", 
      "s3=np.array([0.14,0.35,0.43,0.60,0.72,0.92,1.06,1.25,1.09,0.90,0.76,0.60,0.43,0.27,0.13,0.00])"
     ], 
     "language": "python", 
     "outputs": [], 
     "prompt_number": 82
    }, 
    {
     "cell_type": "code", 
     "collapsed": true, 
     "input": [
      "def calc(m,s,hoehe_,breite_,laenge,Slaenge):", 
      "    hoehe=hoehe_.mean()", 
      "    Sh   =hoehe_.std()", 
      "    breite=breite_.mean()", 
      "    Sbreite=breite_.std()", 
      "    f=m*9.81", 
      "    (a,b,Sy,Sa,Sb)=mylib.gerade(f,s)", 
      "    scatter(f,s)", 
      "    xlabel(ur\"Kraft in $mm \\cdot kg \\cdot s^{-2}$\",fontsize=20)", 
      "    ylabel(\"Durchbiegung in mm\")", 
      "    title(u\"Messung des Elastizit\u00e4tsmodules\")", 
      "    x=np.linspace(0,f.max()*1.1,1000)", 
      "    xlim(0,20000)", 
      "    ylim(0,2)", 
      "    grid(True)", 
      "    plot(x,a+b*x)", 
      "    E=laenge**3/(4*hoehe**3*breite*b)/1000", 
      "    SE=E*np.sqrt((3*Slaenge/laenge)**2+((3*Sh/hoehe)**2+(Sbreite/breite)**2+(Sb/b)**2)/(4*hoehe**3*breite*b)**2)", 
      "    print \"(\",E,\"+-\",SE,\")N/mm^2\""
     ], 
     "language": "python", 
     "outputs": [], 
     "prompt_number": 133
    }, 
    {
     "cell_type": "code", 
     "collapsed": false, 
     "input": [
      "l1=780.0", 
      "Sl1=5.0", 
      "", 
      "calc(g1,s1,st_hoehe.mean(),st_breite.mean(),l1,Sl1)", 
      "calc(g2,s2,al_hoehe.mean(),al_breite.mean(),l1,Sl1)", 
      "calc(g3,s3,me_hoehe.mean(),me_breite.mean(),l1,Sl1)"
     ], 
     "language": "python", 
     "outputs": [
      {
       "output_type": "stream", 
       "stream": "stdout", 
       "text": [
        "( 188953.69491 +- 34335949.6831 )N/mm^2", 
        "( 93216.6872096 +- 896789.424637 )N/mm^2", 
        "( 64232.9653551 +- 645933.872263 )N/mm^2"
       ]
      }, 
      {
       "output_type": "display_data", 
       "png": "[encoded data removed]"
      }
     ], 
     "prompt_number": 134
    }, 
    {
     "cell_type": "code", 
     "collapsed": false, 
     "input": [], 
     "language": "python", 
     "outputs": [
      {
       "output_type": "pyout", 
       "prompt_number": 96, 
       "text": [
        "array([ 200,  400,  600,  800, 1000, 1200, 1400, 1600, 1600, 1400, 1200,", 
        "       1000,  800,  600,  400,  200])"
       ]
      }
     ], 
     "prompt_number": 96
    }, 
    {
     "cell_type": "code", 
     "collapsed": true, 
     "input": [], 
     "language": "python", 
     "outputs": []
    }, 
    {
     "cell_type": "markdown", 
     "source": [
      "Stahl, quer"
     ]
    }, 
    {
     "cell_type": "code", 
     "collapsed": true, 
     "input": [
      "g4=np.concatenate([np.arange(100,(8+1)*100,100),np.arange((7)*100,-100,-100)])", 
      "s4=np.array([0.2,0.45,0.7,0.99,1.31,1.58,1.85,2.15,1.84,1.56,1.32,1.02,0.73,0.48,0.21,0.00])"
     ], 
     "language": "python", 
     "outputs": [], 
     "prompt_number": 46
    }, 
    {
     "cell_type": "markdown", 
     "source": [
      "Messing in Abh\u00e4ngigkeit der L\u00e4nge, hochkant"
     ]
    }, 
    {
     "cell_type": "code", 
     "collapsed": true, 
     "input": [
      "l5=680.0", 
      "Sl5=5.0", 
      "g5=g4", 
      "s5=np.array([0.11,0.25,0.39,0.53,0.69,0.82,0.98,1.11,0.99,0.84,0.69,0.59,0.41,0.27,0.12,0.00])"
     ], 
     "language": "python", 
     "outputs": [], 
     "prompt_number": 47
    }, 
    {
     "cell_type": "code", 
     "collapsed": true, 
     "input": [], 
     "language": "python", 
     "outputs": []
    }, 
    {
     "cell_type": "code", 
     "collapsed": true, 
     "input": [], 
     "language": "python", 
     "outputs": []
    }, 
    {
     "cell_type": "markdown", 
     "source": [
      "T-Tr\u00e4ger hochkant"
     ]
    }, 
    {
     "cell_type": "code", 
     "collapsed": true, 
     "input": [
      "l6=880.0", 
      "Sl6=5.0", 
      "g6=g5", 
      "s6=np.array([0.11,0.27,0.41,0.57,0.72,0.85,1.01,1.16,1.03,0.87,0.73,0.57,0.44,0.27,0.13,-0.03])"
     ], 
     "language": "python", 
     "outputs": [], 
     "prompt_number": 48
    }, 
    {
     "cell_type": "code", 
     "collapsed": true, 
     "input": [], 
     "language": "python", 
     "outputs": []
    }
   ]
  }
 ]
}