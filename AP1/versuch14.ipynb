{
 "metadata": {
  "name": "versuch14"
 }, 
 "nbformat": 2, 
 "worksheets": [
  {
   "cells": [
    {
     "cell_type": "code", 
     "collapsed": true, 
     "input": [
      "import matplotlib.pyplot as plt", 
      "import numpy as np"
     ], 
     "language": "python", 
     "outputs": [], 
     "prompt_number": 1
    }, 
    {
     "cell_type": "code", 
     "collapsed": true, 
     "input": [
      "def gerade(x,y):", 
      "    x=np.array(x)", 
      "    y=np.array(y)", 
      "    b=np.sum((x-np.mean(x))*y)/sum((x-np.mean(x))**2)", 
      "    a=np.mean(y)-b*np.mean(x)", 
      "    n=len(x)", 
      "    sy=np.sqrt(np.sum((y-b*x-a)**2)/(n-2))", 
      "    sa=sy*np.sqrt(1./n+np.mean(x)**2/np.sum((x-np.mean(x))**2))", 
      "    sb=sy*np.sqrt(1./np.sum((x-np.mean(x))**2))", 
      "    return (a,b,sa,sb,sy)"
     ], 
     "language": "python", 
     "outputs": [], 
     "prompt_number": 2
    }, 
    {
     "cell_type": "code", 
     "collapsed": true, 
     "input": [
      "b=np.array([-5,-10,-15,-20,-25,-30,-35,5,10,15,20,25,30])", 
      "b/=10", 
      "cothet=[-0.143,-0.284,-0.4671,-0.64,-0.82,-0.98,-0.99,0.147,0.2918,0.4546,0.6305,0.7971,0.9521]"
     ], 
     "language": "python", 
     "outputs": [], 
     "prompt_number": 7
    }, 
    {
     "cell_type": "code", 
     "collapsed": false, 
     "input": [
      "gerade(cothet,b)"
     ], 
     "language": "python", 
     "outputs": [
      {
       "output_type": "pyout", 
       "prompt_number": 8, 
       "text": [
        "(-0.2759039966355159,", 
        " 3.2476194517015173,", 
        " 0.089200831396931135,", 
        " 0.13597408348046156,", 
        " 0.31916650010014097)"
       ]
      }
     ], 
     "prompt_number": 8
    }, 
    {
     "cell_type": "code", 
     "collapsed": false, 
     "input": [
      "3.2476194517015-0.2175"
     ], 
     "language": "python", 
     "outputs": [
      {
       "output_type": "pyout", 
       "prompt_number": 9, 
       "text": [
        "3.0301194517015"
       ]
      }
     ], 
     "prompt_number": 9
    }, 
    {
     "cell_type": "code", 
     "collapsed": true, 
     "input": [], 
     "language": "python", 
     "outputs": []
    }
   ]
  }
 ]
}