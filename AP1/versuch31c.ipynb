{
 "metadata": {
  "name": "versuch31c"
 }, 
 "nbformat": 2, 
 "worksheets": [
  {
   "cells": [
    {
     "cell_type": "code", 
     "collapsed": true, 
     "input": [
      "import numpy as np"
     ], 
     "language": "python", 
     "outputs": [], 
     "prompt_number": 3
    }, 
    {
     "cell_type": "code", 
     "collapsed": true, 
     "input": [
      "def Sbeta2_(T1,T2,TM,ST1,ST2,STM):", 
      "    return np.sqrt( ( ((TM-T2)*ST2)**2 + ((T1-T2)*STM)**2 )/(T1-TM)**2+ST2**2)/(T1-TM)", 
      "Sbeta1_=lambda T1,T2,TM,ST1,ST2,STM: Sbeta2_(T2,T1,TM,ST2,ST1,STM)", 
      "    ", 
      "def GK_(cw,m1,m2,T1,T2,TM,Scw,Sm1,Sm2,ST1,ST2,STM):", 
      "    beta1=(TM-T1)/(T2-TM)", 
      "    Sbeta1=Sbeta1_(T1,T2,TM,ST1,ST2,STM)", 
      "    MK=m1*beta1-m2", 
      "    SMK=np.sqrt((m1*beta1)**2*((Sm1/m1)**2+(Sbeta1/beta1)**2)+Sm2**2)", 
      "    GK=cw*MK", 
      "    SGK=GK*np.sqrt( (Scw/cw)**2+(SMK/MK)**2 )", 
      "    print \"GK:\",GK,\"SGK:\",SGK,\"pro:\",100*SGK/GK,\"%\""
     ], 
     "language": "python", 
     "outputs": [], 
     "prompt_number": 4
    }, 
    {
     "cell_type": "code", 
     "collapsed": false, 
     "input": [
      "params=[", 
      "        4184.0,#cw", 
      "        0.1,#m1", 
      "        0.2,#m2", 
      "        24.8,#T1", 
      "        63.6,#T2", 
      "        51.0,#TM", 
      "        50.0,#Scw", 
      "        0.0001,#Sm1", 
      "        0.0001,#Sm2", 
      "        0.25,#ST1", 
      "        0.25,#ST2", 
      "        0.25,#STM", 
      "        ]", 
      "GK_(*params)"
     ], 
     "language": "python", 
     "outputs": [
      {
       "output_type": "stream", 
       "stream": "stdout", 
       "text": [
        "GK: 33.2063492063 SGK: 31.9606330385 pro: 96.2485602976 %"
       ]
      }
     ], 
     "prompt_number": 5
    }, 
    {
     "cell_type": "code", 
     "collapsed": true, 
     "input": [
      "def q_(cw,m1,m2,T1,T2,TM,Scw,Sm1,Sm2,ST1,ST2,STM):", 
      "    c=m2/m1*cw*(T2-TM)", 
      "    d=cw*(TM-T1)", 
      "    q=c-d", 
      "    Sq=np.sqrt(c**2* ( (Sm2/m2)**2 + (Sm1/m1)**2 + (Scw/cw)**2 + (ST2**2+STM**2)/(T2-TM)**2 ) + d**2 * ( (Scw/cw)**2 + (STM**2+ST1**2)/(TM-T1)**2 ) )", 
      "    print \"q:\",q,\"Sq:\",Sq,\"pro:\",100*Sq/q,\"%\""
     ], 
     "language": "python", 
     "outputs": [], 
     "prompt_number": 6
    }, 
    {
     "cell_type": "code", 
     "collapsed": false, 
     "input": [
      "params=[", 
      "        4182.0,#cw", 
      "        0.0451,#m1", 
      "        0.152,#m2", 
      "        0.0,#T1", 
      "        68.1,#T2", 
      "        41.06,#TM", 
      "        50.0,#Scw", 
      "        0.001,#Sm1", 
      "        0.00025,#Sm2", 
      "        0.25,#ST1", 
      "        0.25,#ST2", 
      "        0.25,#STM", 
      "        ]", 
      "q_(*params)", 
      "params=[", 
      "        4182.0,#cw", 
      "        0.0278,#m1", 
      "        0.215,#m2", 
      "        0.0,#T1", 
      "        64.6,#T2", 
      "        51.7,#TM", 
      "        50.0,#Scw", 
      "        0.001,#Sm1", 
      "        0.00025,#Sm2", 
      "        0.25,#ST1", 
      "        0.25,#ST2", 
      "        0.25,#STM", 
      "        ]", 
      "q_(*params)"
     ], 
     "language": "python", 
     "outputs": [
      {
       "output_type": "stream", 
       "stream": "stdout", 
       "text": [
        "q: 209403.589091 Sq: 11126.5149206 pro: 5.31343085804 %", 
        "q: 201012.794245 Sq: 19748.0109353 pro: 9.82425571939 %"
       ]
      }
     ], 
     "prompt_number": 7
    }, 
    {
     "cell_type": "code", 
     "collapsed": true, 
     "input": [
      "def cal_(cw,m1,m2,Gk,T1,T2,TM,Scw,Sm1,Sm2,SGk,ST1,ST2,STM):", 
      "    beta2=(TM-T2)/(T1-TM)", 
      "    Sbeta2=Sbeta2_(T1,T2,TM,ST1,ST2,STM)", 
      "    a=m2*cw+Gk", 
      "    Sa=np.sqrt((m2*cw)**2*( (Sm2/m2)**2+(Scw/cw)**2)+SGk**2)", 
      "    Cal=a*beta2/m1", 
      "    Scal=Cal*np.sqrt((Sa/a)**2+(Sbeta2/beta2)**2+(Sm1/m1)**2)", 
      "    print \"Cal:\",Cal,\"SCal:\",Scal,\"pro:\",100*Scal/Cal,\"%\""
     ], 
     "language": "python", 
     "outputs": [], 
     "prompt_number": 8
    }, 
    {
     "cell_type": "code", 
     "collapsed": false, 
     "input": [
      "params=[", 
      "        4182.0,#cw", 
      "        0.0715,#m1", 
      "        0.2652,#m2", 
      "        33.2063492063,#Gk", 
      "        91.01,#T1", 
      "        22.48,#T2", 
      "        26.21,#TM", 
      "        200.0,#Scw", 
      "        0.0001,#Sm1", 
      "        0.0001,#Sm2", 
      "        31.9606330385,#SGk", 
      "        0.6,#ST1", 
      "        0.25,#ST2", 
      "        0.25,#STM", 
      "        ]", 
      "cal_(*params)"
     ], 
     "language": "python", 
     "outputs": [
      {
       "output_type": "stream", 
       "stream": "stdout", 
       "text": [
        "Cal: 919.597115285 SCal: 102.700732461 pro: 11.1680137698 %"
       ]
      }
     ], 
     "prompt_number": 9
    }, 
    {
     "cell_type": "code", 
     "collapsed": true, 
     "input": [
      "def ceth_(Cal,mal,meth,T1,T2,TM,GK,SCal,Smal,Smeth,ST1,ST2,STM,SGK):", 
      "    beta1=(TM-T1)/(T2-TM)", 
      "    Sbeta1=Sbeta1_(T1,T2,TM,ST1,ST2,STM)", 
      "    Ceth=(Cal*mal*beta1-GK)/meth", 
      "    b=Cal*mal*beta1", 
      "    a=b-GK", 
      "    Sa=np.sqrt(b**2*( (SCal/Cal)**2 + (Smal/mal)**2 + (Sbeta1/beta1)**2 )+ SGK**2)", 
      "    SCeth=Ceth*np.sqrt((Sa/a)**2+ (Smeth/meth)**2)", 
      "    print \"Ceth:\",Ceth,\"SCeth:\",SCeth,\"pro:\",100*SCeth/Ceth,\"%\" "
     ], 
     "language": "python", 
     "outputs": [], 
     "prompt_number": 10
    }, 
    {
     "cell_type": "code", 
     "collapsed": false, 
     "input": [
      "params=[", 
      "        919.597115285,#Cal", 
      "        0.07150,#mal", 
      "        0.24875,#meth", 
      "        59.17,#T1", 
      "        30.88,#T2", 
      "        32.88,#TM", 
      "        33.1904,#Gk", 
      "        102.700732461,#SCal", 
      "        0.0001,#Smal", 
      "        0.0001,#Smeth", 
      "        0.25,#ST1", 
      "        0.25,#ST2", 
      "        0.25,#STM", 
      "        31.9606330385,#SGk", 
      "        ]", 
      "ceth_(*params)"
     ], 
     "language": "python", 
     "outputs": [
      {
       "output_type": "stream", 
       "stream": "stdout", 
       "text": [
        "Ceth: 3341.14187638 SCeth: 758.461153765 pro: 22.700656896 %"
       ]
      }
     ], 
     "prompt_number": 11
    }, 
    {
     "cell_type": "code", 
     "collapsed": true, 
     "input": [], 
     "language": "python", 
     "outputs": []
    }
   ]
  }
 ]
}