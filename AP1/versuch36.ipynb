{
 "metadata": {
  "name": "versuch36"
 }, 
 "nbformat": 2, 
 "worksheets": [
  {
   "cells": [
    {
     "cell_type": "code", 
     "collapsed": true, 
     "input": [
      "import numpy as np"
     ], 
     "language": "python", 
     "outputs": [], 
     "prompt_number": 1
    }, 
    {
     "cell_type": "code", 
     "collapsed": false, 
     "input": [
      "m221 = np.array([19.84,19.67,19.62,19.58,19.72,19.68,19.82,19.67,19.69,19.64,19.67,19.69,19.58,19.50])", 
      "T221=m221/50", 
      "print T221.std()/np.sqrt(len(m221))", 
      "print T221.mean()", 
      "print 100*T221.std()/T221.mean(),\"%\""
     ], 
     "language": "python", 
     "outputs": [
      {
       "output_type": "stream", 
       "stream": "stdout", 
       "text": [
        "0.000459131516312", 
        "0.393385714286", 
        "0.436699342941 %"
       ]
      }
     ], 
     "prompt_number": 82
    }, 
    {
     "cell_type": "code", 
     "collapsed": false, 
     "input": [
      "m222T = np.array([19.17,20.14,19.66,18.68,18.77,19.11])+180", 
      "m222n = np.array([500.0,502.0,501.0,500.0,499.0,500.0])", 
      "T222  = m222T/m222n", 
      "print T222.mean()", 
      "print T222.std()"
     ], 
     "language": "python", 
     "outputs": [
      {
       "output_type": "stream", 
       "stream": "stdout", 
       "text": [
        "0.398244147734", 
        "0.000422760979951"
       ]
      }
     ], 
     "prompt_number": 53
    }, 
    {
     "cell_type": "code", 
     "collapsed": false, 
     "input": [
      "m231=np.array([18.04,18.11,18.09,18.11,18.02,18.13,18.12,18.16,18.09,18.12,18.07,18.10,18.13,18.13])", 
      "T231=m231/50.0", 
      "print T231.std()/np.sqrt(len(m231))", 
      "print T231.mean()", 
      "print 100*T231.std()/T231.mean(),\"%\""
     ], 
     "language": "python", 
     "outputs": [
      {
       "output_type": "stream", 
       "stream": "stdout", 
       "text": [
        "0.000193630347235", 
        "0.362028571429", 
        "0.200121889876 %"
       ]
      }
     ], 
     "prompt_number": 81
    }, 
    {
     "cell_type": "code", 
     "collapsed": false, 
     "input": [
      "m232n=np.array([500]*8)", 
      "m232T=np.array([2.17,2.07,2.22,2.59,2.06,2.42,2.27,2.34])+180", 
      "T232=m232T/m232n", 
      "print T232.mean()", 
      "print T232.std()", 
      "print T232"
     ], 
     "language": "python", 
     "outputs": [
      {
       "output_type": "stream", 
       "stream": "stdout", 
       "text": [
        "0.364535", 
        "0.00033641492238", 
        "[ 0.36434  0.36414  0.36444  0.36518  0.36412  0.36484  0.36454  0.36468]"
       ]
      }
     ], 
     "prompt_number": 84
    }, 
    {
     "cell_type": "code", 
     "collapsed": false, 
     "input": [
      "k = 4*np.pi**2*0.0058*0.002225/(0.0001533**2*0.977*10**5*0.3982**2)", 
      "Sk= k*np.sqrt((0.2/5.8)**2+(2*0.003/1.533)**2+(2*T222.std()/T222.mean())**2+(0.0005/0.2225)**2+(1.0/977)**2)", 
      "print k,Sk"
     ], 
     "language": "python", 
     "outputs": [
      {
       "output_type": "stream", 
       "stream": "stdout", 
       "text": [
        "1.39938224948 0.0487777436516"
       ]
      }
     ], 
     "prompt_number": 72
    }, 
    {
     "cell_type": "code", 
     "collapsed": false, 
     "input": [
      "k= 4*np.pi**2*0.0058*0.002225/(0.0001533**2*0.977*10**5*0.364535**2)", 
      "Sk= k*np.sqrt((0.2/5.8)**2+(2*0.003/1.533)**2+(2*T232.std()/T232.mean())**2+(0.0005/0.2225)**2+(1.0/977)**2)", 
      "print k,Sk"
     ], 
     "language": "python", 
     "outputs": [
      {
       "output_type": "stream", 
       "stream": "stdout", 
       "text": [
        "1.66978443049 0.0581766746584"
       ]
      }
     ], 
     "prompt_number": 73
    }, 
    {
     "cell_type": "code", 
     "collapsed": false, 
     "input": [
      "7/5.0"
     ], 
     "language": "python", 
     "outputs": [
      {
       "output_type": "pyout", 
       "prompt_number": 91, 
       "text": [
        "1.4"
       ]
      }
     ], 
     "prompt_number": 91
    }, 
    {
     "cell_type": "code", 
     "collapsed": true, 
     "input": [], 
     "language": "python", 
     "outputs": []
    }
   ]
  }
 ]
}