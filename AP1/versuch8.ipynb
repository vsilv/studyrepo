{
 "metadata": {
  "name": "versuch8"
 }, 
 "nbformat": 2, 
 "worksheets": [
  {
   "cells": [
    {
     "cell_type": "code", 
     "collapsed": true, 
     "input": [
      "import numpy as np", 
      "Sh =0.2", 
      "Smz=0.05", 
      "Sd =0.01", 
      "Sl =0.1", 
      "St =0.1", 
      "Sdm=0.05", 
      "h0=25", 
      "rw=0.9982/1000 #dichte wasser", 
      "g=9.81*1000"
     ], 
     "language": "python", 
     "outputs": [], 
     "prompt_number": 3
    }, 
    {
     "cell_type": "code", 
     "collapsed": true, 
     "input": [
      "def calcIv(h,mz,d,l,t,dm):", 
      "    #unit conversions", 
      "    r= d/2.0", 
      "    h= np.array(h)+h0", 
      "    m=np.array(dm)-np.array(mz)", 
      "    t=np.array(t)", 
      "    dp=rw*g*h", 
      "    dV=m/rw", 
      "    IV=dV/t", 
      "    eta=np.pi*r**4*dp/(IV*8*l)", 
      "    plot(eta)", 
      "    print \"eta:\",eta,\"r**4/l\",10000*r**4/l", 
      "    ", 
      "    ", 
      "    "
     ], 
     "language": "python", 
     "outputs": [], 
     "prompt_number": 16
    }, 
    {
     "cell_type": "code", 
     "collapsed": false, 
     "input": [
      "params1=[91.5,#h", 
      "         [69.64,69.60,69.59],#mz", 
      "         0.88,#d", 
      "        120.1,#l", 
      "        [60+59.4,120+0.28,120+0.31],#t", 
      "        [86.79,86.68,86.46],#dm", 
      "        ]", 
      "params2=[90,#h", 
      "         [69.59,69.61,69.62],#mz", 
      "         0.71,#d", 
      "         81.70,#l", 
      "        [180.43,181.03,180.40],#t", 
      "        [86.22,86.11,86.06],#dm", 
      "        ]", 
      "params3=[91,#h", 
      "         [69.54,69.60,69.60],#mz", 
      "         0.81,#d", 
      "        119.8,#l", 
      "        [180.31,180.40,180.65],#t", 
      "        [89.78,89.57,89.55],#dm", 
      "        ]", 
      "params4=[91.0,#h", 
      "         [69.58,69.59,69.62],#mz", 
      "         0.85,#d", 
      "        80.80,#l", 
      "        [120.31,120.34,124.59],#t", 
      "        [93.19,93.20,94.04],#dm", 
      "        ]", 
      "params5=[91.0,#h", 
      "         [69.60,69.63,69.62],#mz", 
      "         0.90,#d", 
      "        80.0,#l", 
      "        [122.84,120.65,120.34],#t", 
      "        [95.24,94.84,94.33],#dm", 
      "        ]", 
      "calcIv(*params1)", 
      "calcIv(*params2)", 
      "calcIv(*params3)", 
      "calcIv(*params4)", 
      "calcIv(*params5)"
     ], 
     "language": "python", 
     "outputs": [
      {
       "output_type": "stream", 
       "stream": "stdout", 
       "text": [
        "eta: [ 0.00097162  0.0009828   0.00099528] r**4/l 3.12081265612", 
        "eta: [ 0.00093104  0.0009415   0.00094165] r**4/l 1.94397804468", 
        "eta: [ 0.00089083  0.00090332  0.00090548] r**4/l 2.2457596515", 
        "eta: [ 0.00091616  0.00091639  0.00091728] r**4/l 4.03779586943", 
        "eta: [ 0.00109346  0.00109229  0.00111153] r**4/l 5.12578125"
       ]
      }, 
      {
       "output_type": "display_data", 
       "png": "[encoded data removed]"
      }
     ], 
     "prompt_number": 17
    }, 
    {
     "cell_type": "code", 
     "collapsed": false, 
     "input": [], 
     "language": "python", 
     "outputs": [], 
     "prompt_number": 17
    }, 
    {
     "cell_type": "code", 
     "collapsed": true, 
     "input": [], 
     "language": "python", 
     "outputs": [], 
     "prompt_number": 17
    }, 
    {
     "cell_type": "code", 
     "collapsed": true, 
     "input": [], 
     "language": "python", 
     "outputs": []
    }
   ]
  }
 ]
}